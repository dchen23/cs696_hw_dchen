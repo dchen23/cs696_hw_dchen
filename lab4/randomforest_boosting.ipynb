{
 "cells": [
  {
   "cell_type": "code",
   "execution_count": 1,
   "metadata": {},
   "outputs": [],
   "source": [
    "import pandas as pd\n",
    "\n",
    "df = pd.read_csv('diabetes.csv')\n",
    "X = df.iloc[:,:-1]\n",
    "Y = df.iloc[:,-1]"
   ]
  },
  {
   "cell_type": "code",
   "execution_count": 5,
   "metadata": {},
   "outputs": [
    {
     "data": {
      "text/plain": [
       "0    1\n",
       "1    0\n",
       "2    1\n",
       "3    0\n",
       "4    1\n",
       "Name: Outcome, dtype: int64"
      ]
     },
     "execution_count": 5,
     "metadata": {},
     "output_type": "execute_result"
    }
   ],
   "source": [
    "Y.head()"
   ]
  },
  {
   "cell_type": "code",
   "execution_count": 6,
   "metadata": {},
   "outputs": [],
   "source": [
    "# Split into train & test sets. To keep these stable, set the seed and test size.\n",
    "from sklearn.model_selection import train_test_split\n",
    "\n",
    "seed = 7\n",
    "test_size = 0.2\n",
    "train_x, test_x, train_y, test_y = train_test_split(X, Y, test_size=test_size, random_state=seed)"
   ]
  },
  {
   "cell_type": "code",
   "execution_count": 7,
   "metadata": {},
   "outputs": [],
   "source": [
    "# X[0] is missing some values, indicated with \"NaN\". We need values for ALL rows in our model.\n",
    "# Impute missing values with sklearn's Imputer.\n",
    "from sklearn.preprocessing import Imputer\n",
    "\n",
    "imputer = Imputer(missing_values='NaN', strategy='most_frequent', axis=0)\n",
    "train_x_imputed = imputer.fit_transform(train_x)\n",
    "test_x_imputed = imputer.fit_transform(test_x)"
   ]
  },
  {
   "cell_type": "code",
   "execution_count": 8,
   "metadata": {},
   "outputs": [
    {
     "name": "stdout",
     "output_type": "stream",
     "text": [
      "Accuracy: 0.7857\n"
     ]
    }
   ],
   "source": [
    "# Now, classify and determine accuracy.... first with RF.\n",
    "from sklearn.ensemble import RandomForestClassifier\n",
    "from sklearn.metrics import accuracy_score\n",
    "\n",
    "clf = RandomForestClassifier()\n",
    "clf.fit(train_x_imputed, train_y)\n",
    "hyp = clf.predict(test_x_imputed)\n",
    "print('Accuracy: %0.4f' % (accuracy_score(test_y, hyp)))"
   ]
  },
  {
   "cell_type": "code",
   "execution_count": 9,
   "metadata": {},
   "outputs": [
    {
     "name": "stdout",
     "output_type": "stream",
     "text": [
      "Accuracy: 0.7987\n"
     ]
    },
    {
     "name": "stderr",
     "output_type": "stream",
     "text": [
      "C:\\Users\\chick\\Anaconda3\\lib\\site-packages\\sklearn\\preprocessing\\label.py:151: DeprecationWarning: The truth value of an empty array is ambiguous. Returning False, but in future this will result in an error. Use `array.size > 0` to check that an array is not empty.\n",
      "  if diff:\n"
     ]
    }
   ],
   "source": [
    "# Next, classify and determine accuracy with XGBoost, a boosting-based classifier.\n",
    "# Download & install (on Anaconda for Linux/Mac) with: conda install -c conda-forge xgboost \n",
    "from xgboost import XGBClassifier\n",
    "\n",
    "clf = XGBClassifier()\n",
    "clf.fit(train_x_imputed, train_y)\n",
    "hyp = clf.predict(test_x_imputed)\n",
    "print('Accuracy: %0.4f' % (accuracy_score(test_y, hyp)))"
   ]
  },
  {
   "cell_type": "code",
   "execution_count": 13,
   "metadata": {},
   "outputs": [],
   "source": [
    "# X[0] is missing some values, indicated with \"NaN\". We need values for ALL rows in our model.\n",
    "# Impute missing values with sklearn's Imputer.\n",
    "from sklearn.preprocessing import Imputer\n",
    "\n",
    "imputer = Imputer(missing_values='NaN', strategy='median', axis=0)\n",
    "train_x_imputed = imputer.fit_transform(train_x)\n",
    "test_x_imputed = imputer.fit_transform(test_x)"
   ]
  },
  {
   "cell_type": "code",
   "execution_count": 14,
   "metadata": {},
   "outputs": [
    {
     "name": "stdout",
     "output_type": "stream",
     "text": [
      "Accuracy: 0.7987\n"
     ]
    }
   ],
   "source": [
    "# Now, classify and determine accuracy.... first with RF.\n",
    "from sklearn.ensemble import RandomForestClassifier\n",
    "from sklearn.metrics import accuracy_score\n",
    "\n",
    "clf = RandomForestClassifier()\n",
    "clf.fit(train_x_imputed, train_y)\n",
    "hyp = clf.predict(test_x_imputed)\n",
    "print('Accuracy: %0.4f' % (accuracy_score(test_y, hyp)))"
   ]
  },
  {
   "cell_type": "code",
   "execution_count": 15,
   "metadata": {},
   "outputs": [
    {
     "name": "stdout",
     "output_type": "stream",
     "text": [
      "Accuracy: 0.7987\n"
     ]
    },
    {
     "name": "stderr",
     "output_type": "stream",
     "text": [
      "C:\\Users\\chick\\Anaconda3\\lib\\site-packages\\sklearn\\preprocessing\\label.py:151: DeprecationWarning: The truth value of an empty array is ambiguous. Returning False, but in future this will result in an error. Use `array.size > 0` to check that an array is not empty.\n",
      "  if diff:\n"
     ]
    }
   ],
   "source": [
    "# Next, classify and determine accuracy with XGBoost, a boosting-based classifier.\n",
    "# Download & install (on Anaconda for Linux/Mac) with: conda install -c conda-forge xgboost \n",
    "from xgboost import XGBClassifier\n",
    "\n",
    "clf = XGBClassifier()\n",
    "clf.fit(train_x_imputed, train_y)\n",
    "hyp = clf.predict(test_x_imputed)\n",
    "print('Accuracy: %0.4f' % (accuracy_score(test_y, hyp)))"
   ]
  },
  {
   "cell_type": "code",
   "execution_count": null,
   "metadata": {},
   "outputs": [],
   "source": []
  }
 ],
 "metadata": {
  "kernelspec": {
   "display_name": "Python 3",
   "language": "python",
   "name": "python3"
  },
  "language_info": {
   "codemirror_mode": {
    "name": "ipython",
    "version": 3
   },
   "file_extension": ".py",
   "mimetype": "text/x-python",
   "name": "python",
   "nbconvert_exporter": "python",
   "pygments_lexer": "ipython3",
   "version": "3.6.4"
  }
 },
 "nbformat": 4,
 "nbformat_minor": 2
}
